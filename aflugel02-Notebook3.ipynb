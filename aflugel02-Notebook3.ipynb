{
 "cells": [
  {
   "cell_type": "code",
   "execution_count": 35,
   "metadata": {
    "ExecuteTime": {
     "end_time": "2018-02-01T22:55:08.662542Z",
     "start_time": "2018-02-01T22:55:08.648880Z"
    },
    "collapsed": true
   },
   "outputs": [],
   "source": [
    "import pandas as pd\n",
    "import numpy as np\n",
    "\n",
    "import matplotlib.pyplot as plt\n",
    "import matplotlib.dates as mdates\n",
    "import seaborn as sns\n",
    "\n",
    "from sklearn.linear_model import LinearRegression\n",
    "from sklearn.metrics import mean_squared_error\n",
    "from sklearn.model_selection import KFold\n",
    "from sklearn.dummy import DummyRegressor\n",
    "\n",
    "from scipy.stats.stats import pearsonr\n",
    "\n",
    "from datetime import datetime as dt\n",
    "from copy import deepcopy\n",
    "import pickle\n",
    "\n",
    "%matplotlib inline"
   ]
  },
  {
   "cell_type": "code",
   "execution_count": 2,
   "metadata": {
    "ExecuteTime": {
     "end_time": "2018-02-01T22:28:11.779236Z",
     "start_time": "2018-02-01T22:28:11.775496Z"
    }
   },
   "outputs": [],
   "source": [
    "df_mod = pd.read_pickle('df_mod.pk1')"
   ]
  },
  {
   "cell_type": "markdown",
   "metadata": {},
   "source": [
    "# EDA"
   ]
  },
  {
   "cell_type": "markdown",
   "metadata": {
    "heading_collapsed": true
   },
   "source": [
    "## Characteristics of target"
   ]
  },
  {
   "cell_type": "code",
   "execution_count": 40,
   "metadata": {
    "ExecuteTime": {
     "end_time": "2018-02-02T04:41:22.831948Z",
     "start_time": "2018-02-02T04:41:22.819270Z"
    },
    "hidden": true
   },
   "outputs": [
    {
     "name": "stdout",
     "output_type": "stream",
     "text": [
      "Avg critic score: 77.45255474452554\n",
      "Max: 96\n",
      "Min: 38\n",
      "Median: 78.0\n",
      "Standard Dev: 10.016876056200843\n"
     ]
    }
   ],
   "source": [
    "print('Avg critic score: ' + str(df_mod.score.mean()))\n",
    "print('Max: ' + str(df_mod.score.max()))\n",
    "print('Min: ' + str(df_mod.score.min()))\n",
    "print('Median: ' + str(df_mod.score.median()))\n",
    "print('Standard Dev: ' + str(df_mod.score.std()))"
   ]
  },
  {
   "cell_type": "markdown",
   "metadata": {
    "heading_collapsed": true
   },
   "source": [
    "## Overall correlations"
   ]
  },
  {
   "cell_type": "code",
   "execution_count": 4,
   "metadata": {
    "ExecuteTime": {
     "end_time": "2018-02-01T22:28:11.810170Z",
     "start_time": "2018-02-01T22:28:11.789167Z"
    },
    "hidden": true
   },
   "outputs": [
    {
     "data": {
      "text/html": [
       "<div>\n",
       "<style>\n",
       "    .dataframe thead tr:only-child th {\n",
       "        text-align: right;\n",
       "    }\n",
       "\n",
       "    .dataframe thead th {\n",
       "        text-align: left;\n",
       "    }\n",
       "\n",
       "    .dataframe tbody tr th {\n",
       "        vertical-align: top;\n",
       "    }\n",
       "</style>\n",
       "<table border=\"1\" class=\"dataframe\">\n",
       "  <thead>\n",
       "    <tr style=\"text-align: right;\">\n",
       "      <th></th>\n",
       "      <th>target_age</th>\n",
       "      <th>game_type_Fighting</th>\n",
       "      <th>game_type_Misc Action/Other</th>\n",
       "      <th>game_type_Platformer</th>\n",
       "      <th>game_type_Puzzle/Strategy</th>\n",
       "      <th>game_type_RPG</th>\n",
       "      <th>game_type_Racing</th>\n",
       "      <th>game_type_Shooter</th>\n",
       "      <th>game_type_Sports</th>\n",
       "      <th>console_PlayStation 4</th>\n",
       "      <th>console_Xbox One</th>\n",
       "      <th>score</th>\n",
       "    </tr>\n",
       "  </thead>\n",
       "  <tbody>\n",
       "    <tr>\n",
       "      <th>target_age</th>\n",
       "      <td>1.000000</td>\n",
       "      <td>-0.007188</td>\n",
       "      <td>0.062297</td>\n",
       "      <td>-0.343932</td>\n",
       "      <td>-0.031327</td>\n",
       "      <td>0.166319</td>\n",
       "      <td>-0.112752</td>\n",
       "      <td>0.207055</td>\n",
       "      <td>-0.202940</td>\n",
       "      <td>0.196514</td>\n",
       "      <td>0.136161</td>\n",
       "      <td>0.204556</td>\n",
       "    </tr>\n",
       "    <tr>\n",
       "      <th>game_type_Fighting</th>\n",
       "      <td>-0.007188</td>\n",
       "      <td>1.000000</td>\n",
       "      <td>-0.090249</td>\n",
       "      <td>-0.098732</td>\n",
       "      <td>-0.045162</td>\n",
       "      <td>-0.106941</td>\n",
       "      <td>-0.065114</td>\n",
       "      <td>-0.151647</td>\n",
       "      <td>-0.034720</td>\n",
       "      <td>0.031457</td>\n",
       "      <td>-0.082393</td>\n",
       "      <td>0.009407</td>\n",
       "    </tr>\n",
       "    <tr>\n",
       "      <th>game_type_Misc Action/Other</th>\n",
       "      <td>0.062297</td>\n",
       "      <td>-0.090249</td>\n",
       "      <td>1.000000</td>\n",
       "      <td>-0.165479</td>\n",
       "      <td>-0.075694</td>\n",
       "      <td>-0.179238</td>\n",
       "      <td>-0.109134</td>\n",
       "      <td>-0.254167</td>\n",
       "      <td>-0.058193</td>\n",
       "      <td>-0.002839</td>\n",
       "      <td>-0.024286</td>\n",
       "      <td>-0.128048</td>\n",
       "    </tr>\n",
       "    <tr>\n",
       "      <th>game_type_Platformer</th>\n",
       "      <td>-0.343932</td>\n",
       "      <td>-0.098732</td>\n",
       "      <td>-0.165479</td>\n",
       "      <td>1.000000</td>\n",
       "      <td>-0.082809</td>\n",
       "      <td>-0.196086</td>\n",
       "      <td>-0.119393</td>\n",
       "      <td>-0.278059</td>\n",
       "      <td>-0.063663</td>\n",
       "      <td>0.017156</td>\n",
       "      <td>-0.063189</td>\n",
       "      <td>-0.137040</td>\n",
       "    </tr>\n",
       "    <tr>\n",
       "      <th>game_type_Puzzle/Strategy</th>\n",
       "      <td>-0.031327</td>\n",
       "      <td>-0.045162</td>\n",
       "      <td>-0.075694</td>\n",
       "      <td>-0.082809</td>\n",
       "      <td>1.000000</td>\n",
       "      <td>-0.089694</td>\n",
       "      <td>-0.054613</td>\n",
       "      <td>-0.127190</td>\n",
       "      <td>-0.029121</td>\n",
       "      <td>0.037505</td>\n",
       "      <td>-0.044985</td>\n",
       "      <td>-0.004925</td>\n",
       "    </tr>\n",
       "    <tr>\n",
       "      <th>game_type_RPG</th>\n",
       "      <td>0.166319</td>\n",
       "      <td>-0.106941</td>\n",
       "      <td>-0.179238</td>\n",
       "      <td>-0.196086</td>\n",
       "      <td>-0.089694</td>\n",
       "      <td>1.000000</td>\n",
       "      <td>-0.129320</td>\n",
       "      <td>-0.301178</td>\n",
       "      <td>-0.068956</td>\n",
       "      <td>-0.041770</td>\n",
       "      <td>0.026752</td>\n",
       "      <td>0.215759</td>\n",
       "    </tr>\n",
       "    <tr>\n",
       "      <th>game_type_Racing</th>\n",
       "      <td>-0.112752</td>\n",
       "      <td>-0.065114</td>\n",
       "      <td>-0.109134</td>\n",
       "      <td>-0.119393</td>\n",
       "      <td>-0.054613</td>\n",
       "      <td>-0.129320</td>\n",
       "      <td>1.000000</td>\n",
       "      <td>-0.183381</td>\n",
       "      <td>-0.041986</td>\n",
       "      <td>-0.058171</td>\n",
       "      <td>0.056862</td>\n",
       "      <td>0.015392</td>\n",
       "    </tr>\n",
       "    <tr>\n",
       "      <th>game_type_Shooter</th>\n",
       "      <td>0.207055</td>\n",
       "      <td>-0.151647</td>\n",
       "      <td>-0.254167</td>\n",
       "      <td>-0.278059</td>\n",
       "      <td>-0.127190</td>\n",
       "      <td>-0.301178</td>\n",
       "      <td>-0.183381</td>\n",
       "      <td>1.000000</td>\n",
       "      <td>-0.097783</td>\n",
       "      <td>0.011170</td>\n",
       "      <td>0.084029</td>\n",
       "      <td>0.134867</td>\n",
       "    </tr>\n",
       "    <tr>\n",
       "      <th>game_type_Sports</th>\n",
       "      <td>-0.202940</td>\n",
       "      <td>-0.034720</td>\n",
       "      <td>-0.058193</td>\n",
       "      <td>-0.063663</td>\n",
       "      <td>-0.029121</td>\n",
       "      <td>-0.068956</td>\n",
       "      <td>-0.041986</td>\n",
       "      <td>-0.097783</td>\n",
       "      <td>1.000000</td>\n",
       "      <td>-0.150723</td>\n",
       "      <td>0.116859</td>\n",
       "      <td>-0.246661</td>\n",
       "    </tr>\n",
       "    <tr>\n",
       "      <th>console_PlayStation 4</th>\n",
       "      <td>0.196514</td>\n",
       "      <td>0.031457</td>\n",
       "      <td>-0.002839</td>\n",
       "      <td>0.017156</td>\n",
       "      <td>0.037505</td>\n",
       "      <td>-0.041770</td>\n",
       "      <td>-0.058171</td>\n",
       "      <td>0.011170</td>\n",
       "      <td>-0.150723</td>\n",
       "      <td>1.000000</td>\n",
       "      <td>-0.669781</td>\n",
       "      <td>-0.029587</td>\n",
       "    </tr>\n",
       "    <tr>\n",
       "      <th>console_Xbox One</th>\n",
       "      <td>0.136161</td>\n",
       "      <td>-0.082393</td>\n",
       "      <td>-0.024286</td>\n",
       "      <td>-0.063189</td>\n",
       "      <td>-0.044985</td>\n",
       "      <td>0.026752</td>\n",
       "      <td>0.056862</td>\n",
       "      <td>0.084029</td>\n",
       "      <td>0.116859</td>\n",
       "      <td>-0.669781</td>\n",
       "      <td>1.000000</td>\n",
       "      <td>0.161786</td>\n",
       "    </tr>\n",
       "    <tr>\n",
       "      <th>score</th>\n",
       "      <td>0.204556</td>\n",
       "      <td>0.009407</td>\n",
       "      <td>-0.128048</td>\n",
       "      <td>-0.137040</td>\n",
       "      <td>-0.004925</td>\n",
       "      <td>0.215759</td>\n",
       "      <td>0.015392</td>\n",
       "      <td>0.134867</td>\n",
       "      <td>-0.246661</td>\n",
       "      <td>-0.029587</td>\n",
       "      <td>0.161786</td>\n",
       "      <td>1.000000</td>\n",
       "    </tr>\n",
       "  </tbody>\n",
       "</table>\n",
       "</div>"
      ],
      "text/plain": [
       "                             target_age  game_type_Fighting  \\\n",
       "target_age                     1.000000           -0.007188   \n",
       "game_type_Fighting            -0.007188            1.000000   \n",
       "game_type_Misc Action/Other    0.062297           -0.090249   \n",
       "game_type_Platformer          -0.343932           -0.098732   \n",
       "game_type_Puzzle/Strategy     -0.031327           -0.045162   \n",
       "game_type_RPG                  0.166319           -0.106941   \n",
       "game_type_Racing              -0.112752           -0.065114   \n",
       "game_type_Shooter              0.207055           -0.151647   \n",
       "game_type_Sports              -0.202940           -0.034720   \n",
       "console_PlayStation 4          0.196514            0.031457   \n",
       "console_Xbox One               0.136161           -0.082393   \n",
       "score                          0.204556            0.009407   \n",
       "\n",
       "                             game_type_Misc Action/Other  \\\n",
       "target_age                                      0.062297   \n",
       "game_type_Fighting                             -0.090249   \n",
       "game_type_Misc Action/Other                     1.000000   \n",
       "game_type_Platformer                           -0.165479   \n",
       "game_type_Puzzle/Strategy                      -0.075694   \n",
       "game_type_RPG                                  -0.179238   \n",
       "game_type_Racing                               -0.109134   \n",
       "game_type_Shooter                              -0.254167   \n",
       "game_type_Sports                               -0.058193   \n",
       "console_PlayStation 4                          -0.002839   \n",
       "console_Xbox One                               -0.024286   \n",
       "score                                          -0.128048   \n",
       "\n",
       "                             game_type_Platformer  game_type_Puzzle/Strategy  \\\n",
       "target_age                              -0.343932                  -0.031327   \n",
       "game_type_Fighting                      -0.098732                  -0.045162   \n",
       "game_type_Misc Action/Other             -0.165479                  -0.075694   \n",
       "game_type_Platformer                     1.000000                  -0.082809   \n",
       "game_type_Puzzle/Strategy               -0.082809                   1.000000   \n",
       "game_type_RPG                           -0.196086                  -0.089694   \n",
       "game_type_Racing                        -0.119393                  -0.054613   \n",
       "game_type_Shooter                       -0.278059                  -0.127190   \n",
       "game_type_Sports                        -0.063663                  -0.029121   \n",
       "console_PlayStation 4                    0.017156                   0.037505   \n",
       "console_Xbox One                        -0.063189                  -0.044985   \n",
       "score                                   -0.137040                  -0.004925   \n",
       "\n",
       "                             game_type_RPG  game_type_Racing  \\\n",
       "target_age                        0.166319         -0.112752   \n",
       "game_type_Fighting               -0.106941         -0.065114   \n",
       "game_type_Misc Action/Other      -0.179238         -0.109134   \n",
       "game_type_Platformer             -0.196086         -0.119393   \n",
       "game_type_Puzzle/Strategy        -0.089694         -0.054613   \n",
       "game_type_RPG                     1.000000         -0.129320   \n",
       "game_type_Racing                 -0.129320          1.000000   \n",
       "game_type_Shooter                -0.301178         -0.183381   \n",
       "game_type_Sports                 -0.068956         -0.041986   \n",
       "console_PlayStation 4            -0.041770         -0.058171   \n",
       "console_Xbox One                  0.026752          0.056862   \n",
       "score                             0.215759          0.015392   \n",
       "\n",
       "                             game_type_Shooter  game_type_Sports  \\\n",
       "target_age                            0.207055         -0.202940   \n",
       "game_type_Fighting                   -0.151647         -0.034720   \n",
       "game_type_Misc Action/Other          -0.254167         -0.058193   \n",
       "game_type_Platformer                 -0.278059         -0.063663   \n",
       "game_type_Puzzle/Strategy            -0.127190         -0.029121   \n",
       "game_type_RPG                        -0.301178         -0.068956   \n",
       "game_type_Racing                     -0.183381         -0.041986   \n",
       "game_type_Shooter                     1.000000         -0.097783   \n",
       "game_type_Sports                     -0.097783          1.000000   \n",
       "console_PlayStation 4                 0.011170         -0.150723   \n",
       "console_Xbox One                      0.084029          0.116859   \n",
       "score                                 0.134867         -0.246661   \n",
       "\n",
       "                             console_PlayStation 4  console_Xbox One     score  \n",
       "target_age                                0.196514          0.136161  0.204556  \n",
       "game_type_Fighting                        0.031457         -0.082393  0.009407  \n",
       "game_type_Misc Action/Other              -0.002839         -0.024286 -0.128048  \n",
       "game_type_Platformer                      0.017156         -0.063189 -0.137040  \n",
       "game_type_Puzzle/Strategy                 0.037505         -0.044985 -0.004925  \n",
       "game_type_RPG                            -0.041770          0.026752  0.215759  \n",
       "game_type_Racing                         -0.058171          0.056862  0.015392  \n",
       "game_type_Shooter                         0.011170          0.084029  0.134867  \n",
       "game_type_Sports                         -0.150723          0.116859 -0.246661  \n",
       "console_PlayStation 4                     1.000000         -0.669781 -0.029587  \n",
       "console_Xbox One                         -0.669781          1.000000  0.161786  \n",
       "score                                    -0.029587          0.161786  1.000000  "
      ]
     },
     "execution_count": 4,
     "metadata": {},
     "output_type": "execute_result"
    }
   ],
   "source": [
    "df_mod.corr()"
   ]
  },
  {
   "cell_type": "code",
   "execution_count": 5,
   "metadata": {
    "ExecuteTime": {
     "end_time": "2018-02-01T22:28:11.817376Z",
     "start_time": "2018-02-01T22:28:11.812172Z"
    },
    "hidden": true
   },
   "outputs": [
    {
     "data": {
      "text/plain": [
       "score                          1.000000\n",
       "game_type_RPG                  0.215759\n",
       "target_age                     0.204556\n",
       "console_Xbox One               0.161786\n",
       "game_type_Shooter              0.134867\n",
       "game_type_Racing               0.015392\n",
       "game_type_Fighting             0.009407\n",
       "game_type_Puzzle/Strategy     -0.004925\n",
       "console_PlayStation 4         -0.029587\n",
       "game_type_Misc Action/Other   -0.128048\n",
       "game_type_Platformer          -0.137040\n",
       "game_type_Sports              -0.246661\n",
       "Name: score, dtype: float64"
      ]
     },
     "execution_count": 5,
     "metadata": {},
     "output_type": "execute_result"
    }
   ],
   "source": [
    "df_mod.corr().score.sort_values(ascending=False)"
   ]
  },
  {
   "cell_type": "markdown",
   "metadata": {},
   "source": [
    "## Checking score correlations for each esrb rating category"
   ]
  },
  {
   "cell_type": "code",
   "execution_count": 89,
   "metadata": {
    "ExecuteTime": {
     "end_time": "2018-02-02T05:44:51.959222Z",
     "start_time": "2018-02-02T05:44:51.949361Z"
    },
    "collapsed": true
   },
   "outputs": [],
   "source": [
    "#Making separate DataFrames for each esrb rating\n",
    "df_E = df_mod[df_mod['esrb rating'] == 'Everyone']\n",
    "df_E10 = df_mod[df_mod['esrb rating'] == 'Everyone 10+']\n",
    "df_T = df_mod[df_mod['esrb rating'] == 'Teen']\n",
    "df_M = df_mod[df_mod['esrb rating'] == 'Mature']"
   ]
  },
  {
   "cell_type": "code",
   "execution_count": 90,
   "metadata": {
    "ExecuteTime": {
     "end_time": "2018-02-02T05:45:00.511252Z",
     "start_time": "2018-02-02T05:45:00.503720Z"
    }
   },
   "outputs": [
    {
     "data": {
      "text/plain": [
       "score                          1.000000\n",
       "console_Xbox One               0.614909\n",
       "game_type_Platformer           0.282790\n",
       "game_type_Racing              -0.023228\n",
       "game_type_Shooter             -0.053642\n",
       "game_type_Sports              -0.304556\n",
       "console_PlayStation 4         -0.349862\n",
       "target_age                          NaN\n",
       "game_type_Fighting                  NaN\n",
       "game_type_Misc Action/Other         NaN\n",
       "game_type_Puzzle/Strategy           NaN\n",
       "game_type_RPG                       NaN\n",
       "Name: score, dtype: float64"
      ]
     },
     "execution_count": 90,
     "metadata": {},
     "output_type": "execute_result"
    }
   ],
   "source": [
    "df_E.corr().score.sort_values(ascending=False)   #everyone"
   ]
  },
  {
   "cell_type": "code",
   "execution_count": 91,
   "metadata": {
    "ExecuteTime": {
     "end_time": "2018-02-02T05:45:08.954556Z",
     "start_time": "2018-02-02T05:45:08.947550Z"
    }
   },
   "outputs": [
    {
     "data": {
      "text/plain": [
       "score                          1.000000\n",
       "console_Xbox One               0.194344\n",
       "game_type_Shooter              0.183117\n",
       "console_PlayStation 4          0.047098\n",
       "game_type_Fighting             0.045149\n",
       "game_type_RPG                  0.028229\n",
       "game_type_Puzzle/Strategy     -0.034779\n",
       "game_type_Platformer          -0.043584\n",
       "game_type_Racing              -0.079616\n",
       "game_type_Misc Action/Other   -0.150191\n",
       "target_age                          NaN\n",
       "game_type_Sports                    NaN\n",
       "Name: score, dtype: float64"
      ]
     },
     "execution_count": 91,
     "metadata": {},
     "output_type": "execute_result"
    }
   ],
   "source": [
    "df_E10.corr().score.sort_values(ascending=False)  #everyone 10+"
   ]
  },
  {
   "cell_type": "code",
   "execution_count": 92,
   "metadata": {
    "ExecuteTime": {
     "end_time": "2018-02-02T05:45:17.382420Z",
     "start_time": "2018-02-02T05:45:17.376389Z"
    }
   },
   "outputs": [
    {
     "data": {
      "text/plain": [
       "score                          1.000000\n",
       "game_type_RPG                  0.208309\n",
       "game_type_Misc Action/Other    0.172526\n",
       "game_type_Shooter              0.151661\n",
       "console_PlayStation 4          0.128131\n",
       "game_type_Fighting             0.100960\n",
       "game_type_Platformer          -0.121407\n",
       "console_Xbox One              -0.218791\n",
       "game_type_Sports              -0.719213\n",
       "target_age                          NaN\n",
       "game_type_Puzzle/Strategy           NaN\n",
       "game_type_Racing                    NaN\n",
       "Name: score, dtype: float64"
      ]
     },
     "execution_count": 92,
     "metadata": {},
     "output_type": "execute_result"
    }
   ],
   "source": [
    "df_T.corr().score.sort_values(ascending=False)  #teen"
   ]
  },
  {
   "cell_type": "code",
   "execution_count": 93,
   "metadata": {
    "ExecuteTime": {
     "end_time": "2018-02-02T05:45:26.007684Z",
     "start_time": "2018-02-02T05:45:26.001687Z"
    }
   },
   "outputs": [
    {
     "data": {
      "text/plain": [
       "score                          1.000000\n",
       "game_type_RPG                  0.333277\n",
       "console_Xbox One               0.267734\n",
       "game_type_Puzzle/Strategy      0.057635\n",
       "game_type_Shooter              0.040348\n",
       "game_type_Racing               0.004883\n",
       "game_type_Fighting            -0.010646\n",
       "console_PlayStation 4         -0.215305\n",
       "game_type_Platformer          -0.230928\n",
       "game_type_Misc Action/Other   -0.286595\n",
       "target_age                          NaN\n",
       "game_type_Sports                    NaN\n",
       "Name: score, dtype: float64"
      ]
     },
     "execution_count": 93,
     "metadata": {},
     "output_type": "execute_result"
    }
   ],
   "source": [
    "df_M.corr().score.sort_values(ascending=False)  #mature"
   ]
  },
  {
   "cell_type": "markdown",
   "metadata": {
    "heading_collapsed": true
   },
   "source": [
    "## Check out scores over time"
   ]
  },
  {
   "cell_type": "code",
   "execution_count": 75,
   "metadata": {
    "ExecuteTime": {
     "end_time": "2018-02-02T05:15:45.493629Z",
     "start_time": "2018-02-02T05:15:45.284784Z"
    },
    "hidden": true
   },
   "outputs": [
    {
     "name": "stdout",
     "output_type": "stream",
     "text": [
      "Pearson Correlation = -0.09576961427.\n",
      "p-value = 0.265603340041\n"
     ]
    },
    {
     "data": {
      "image/png": "[encoded data removed]",
      "text/plain": [
       "<matplotlib.figure.Figure at 0x12176e320>"
      ]
     },
     "metadata": {},
     "output_type": "display_data"
    }
   ],
   "source": [
    "#plotting the scores over time\n",
    "dates = [timestamp.date() for timestamp in df_mod.released]  #make the dates usable to plt\n",
    "scores = df_mod.score\n",
    "\n",
    "timeplot = plt.scatter(dates, scores)\n",
    "plt.rcParams[\"figure.figsize\"] = (10,6)\n",
    "plt.title('Critic Scores over Time', size=25);\n",
    "plt.xlabel('Release Date', size=20)\n",
    "plt.ylabel('Critic Score', size=20)\n",
    "\n",
    "#find the numerical correlation between release date and score\n",
    "arbitrary_date = dt(1970,1,1).date()\n",
    "date_nums = [(d - arbitrary_date).total_seconds() for d in dates]  #make dates usable to pearsonr\n",
    "\n",
    "print(\"Pearson Correlation = %s.\\np-value = %s\"%pearsonr(date_nums, scores))"
   ]
  },
  {
   "cell_type": "markdown",
   "metadata": {
    "heading_collapsed": true
   },
   "source": [
    "# Modeling"
   ]
  },
  {
   "cell_type": "markdown",
   "metadata": {
    "heading_collapsed": true,
    "hidden": true
   },
   "source": [
    "## Helper Functions"
   ]
  },
  {
   "cell_type": "code",
   "execution_count": 12,
   "metadata": {
    "ExecuteTime": {
     "end_time": "2018-02-01T22:28:12.236822Z",
     "start_time": "2018-02-01T22:28:12.083175Z"
    },
    "hidden": true
   },
   "outputs": [],
   "source": [
    "def adj_r_squared(model, X, y):\n",
    "    \"\"\"computes R^2 and adjusted R^2. (input: lr model, X matrix, and the y array)\"\"\"\n",
    "    yhat = model.predict(X)\n",
    "    SS_Residual = sum((y-yhat)**2)\n",
    "    SS_Total = sum((y-np.mean(y))**2)\n",
    "    \n",
    "    r_squared = 1 - (float(SS_Residual))/SS_Total\n",
    "    adjusted_r_squared = 1 - (1-r_squared)*(len(y)-1)/(len(y)-X.shape[1]-1)\n",
    "    \n",
    "    return {'R^2':r_squared, 'Adjusted R^2':adjusted_r_squared}\n",
    "\n",
    "def root_mse(model, X, y):\n",
    "    \"\"\"computes MSE and RMSE. (input: lr model, X matrix, and the y array)\"\"\"\n",
    "    predictions = model.predict(X)\n",
    "    mse = mean_squared_error(y, predictions)\n",
    "    rmse = np.sqrt(mse)\n",
    "    return {'MSE':mse, 'RMSE':rmse}\n",
    "    \n",
    "    \n",
    "def calc_ISE(model, X_train, y_train):\n",
    "    '''returns the in-sample adjusted R^2 and RMSE; assumes model already fit.'''\n",
    "    adj_r2 = adj_r_squared(model, X_train, y_train)['Adjusted R^2']\n",
    "    rmse = root_mse(model, X_train, y_train)['RMSE']\n",
    "    \n",
    "    return {'Adjusted R^2':adj_r2, 'RMSE':rmse}\n",
    "    \n",
    "    \n",
    "def calc_OSE(model, X_test, y_test):\n",
    "    '''returns the out-of-sample adjusted R^2 and RMSE; assumes model already fit.'''\n",
    "    adj_r2 = adj_r_squared(model, X_test, y_test)['Adjusted R^2']\n",
    "    rmse = root_mse(model, X_test, y_test)['RMSE']\n",
    "\n",
    "    return {'Adjusted R^2':adj_r2,'RMSE':rmse}\n",
    "\n",
    "\n",
    "def calc_ISE_OSE(model, X_train, y_train, X_test, y_test):\n",
    "    '''fits model and returns the RMSE for in-sample error and out-of-sample error'''\n",
    "    model.fit(X_train, y_train)\n",
    "    ISE = calc_ISE(model, X_train, y_train)\n",
    "    OSE = calc_OSE(model, X_test, y_test)\n",
    "    return {'In sample':ISE,'Out of sample':OSE}\n",
    "\n",
    "\n",
    "def cross_validation(model, X, y, folds=10):\n",
    "    '''takes a model, the X matrix, and y array, runs cross validation (default 10 folds)\n",
    "    returns a dict with the train error and validation error'''\n",
    "    k = folds\n",
    "    kf = KFold(n_splits=k, shuffle=True, random_state=42)\n",
    "    \n",
    "    train_errors = []\n",
    "    validation_errors = []\n",
    "    \n",
    "    y = np.array(y)\n",
    "    if type(X) != np.ndarray:\n",
    "        X = X.as_matrix()\n",
    "    \n",
    "    \n",
    "    for train_index, val_index in kf.split(X, y):\n",
    "        # split data\n",
    "        X_train, X_val = X[train_index], X[val_index]\n",
    "        y_train, y_val = y[train_index], y[val_index]\n",
    "        \n",
    "        #calculate errors\n",
    "        train_error, val_error = (calc_ISE_OSE(model, X_train, y_train, X_val, y_val)['In sample']['RMSE'],\n",
    "                                  calc_ISE_OSE(model, X_train, y_train, X_val, y_val)['Out of sample']['RMSE'])\n",
    "        \n",
    "        # append to appropriate list\n",
    "        train_errors.append(train_error)\n",
    "        validation_errors.append(val_error)\n",
    "        \n",
    "    return {'Train error':np.mean(train_errors),\n",
    "           'Validation error:':np.mean(validation_errors)}\n",
    "        "
   ]
  },
  {
   "cell_type": "markdown",
   "metadata": {
    "hidden": true
   },
   "source": [
    "## Single variable models"
   ]
  },
  {
   "cell_type": "markdown",
   "metadata": {
    "hidden": true
   },
   "source": [
    "### target age"
   ]
  },
  {
   "cell_type": "code",
   "execution_count": 13,
   "metadata": {
    "ExecuteTime": {
     "end_time": "2018-02-01T22:28:12.247027Z",
     "start_time": "2018-02-01T22:28:12.238809Z"
    },
    "hidden": true
   },
   "outputs": [],
   "source": [
    "lr = LinearRegression()\n",
    "X = df_mod['target_age'].values.reshape(-1,1)\n",
    "y = np.array(df_mod.score)\n",
    "\n",
    "lr.fit(X, y);"
   ]
  },
  {
   "cell_type": "code",
   "execution_count": 82,
   "metadata": {
    "ExecuteTime": {
     "end_time": "2018-02-02T05:21:37.523423Z",
     "start_time": "2018-02-02T05:21:37.318362Z"
    },
    "hidden": true
   },
   "outputs": [
    {
     "data": {
      "text/plain": [
       "[<matplotlib.lines.Line2D at 0x1212e6f98>]"
      ]
     },
     "execution_count": 82,
     "metadata": {},
     "output_type": "execute_result"
    },
    {
     "data": {
      "image/png": "[encoded data removed]",
      "text/plain": [
       "<matplotlib.figure.Figure at 0x110acc9e8>"
      ]
     },
     "metadata": {},
     "output_type": "display_data"
    }
   ],
   "source": [
    "#plotting the data\n",
    "target_ages = df_mod.target_age\n",
    "scores = df_mod.score\n",
    "\n",
    "plt.scatter(target_ages, scores, color='purple')\n",
    "plt.title('Critic Score by Target Age', size=25)\n",
    "plt.xlabel('Target Age of Game', size=20)\n",
    "plt.ylabel('Critic Score', size=20)\n",
    "\n",
    "#plotting the regression line\n",
    "plt.plot(target_ages, lr.predict(target_ages.values.reshape(-1, 1)), color='red')"
   ]
  },
  {
   "cell_type": "code",
   "execution_count": 15,
   "metadata": {
    "ExecuteTime": {
     "end_time": "2018-02-01T22:28:12.414313Z",
     "start_time": "2018-02-01T22:28:12.409626Z"
    },
    "hidden": true,
    "scrolled": true
   },
   "outputs": [
    {
     "name": "stdout",
     "output_type": "stream",
     "text": [
      "{'R^2': 0.041843049850308178, 'Adjusted R^2': 0.03474559096031038}\n",
      "{'MSE': 95.43761891220349, 'RMSE': 9.7692179273575164}\n"
     ]
    }
   ],
   "source": [
    "print(adj_r_squared(lr, X, y))\n",
    "print(root_mse(lr, X, y))"
   ]
  },
  {
   "cell_type": "code",
   "execution_count": 87,
   "metadata": {
    "ExecuteTime": {
     "end_time": "2018-02-02T05:30:11.316272Z",
     "start_time": "2018-02-02T05:30:11.296044Z"
    },
    "hidden": true
   },
   "outputs": [
    {
     "name": "stdout",
     "output_type": "stream",
     "text": [
      "score = [ 0.46871703]*'Target Age' + 70.4790197604\n"
     ]
    }
   ],
   "source": [
    "print('score = %s*\\'Target Age\\' + %s'%(lr.coef_, lr.intercept_))"
   ]
  },
  {
   "cell_type": "code",
   "execution_count": 88,
   "metadata": {
    "ExecuteTime": {
     "end_time": "2018-02-02T05:34:24.543721Z",
     "start_time": "2018-02-02T05:34:24.518154Z"
    },
    "hidden": true
   },
   "outputs": [
    {
     "data": {
      "text/plain": [
       "{'Train error': 9.7607517145063447, 'Validation error:': 9.7225148649300763}"
      ]
     },
     "execution_count": 88,
     "metadata": {},
     "output_type": "execute_result"
    }
   ],
   "source": [
    "cross_validation(lr,X,y)"
   ]
  },
  {
   "cell_type": "markdown",
   "metadata": {
    "heading_collapsed": true,
    "hidden": true
   },
   "source": [
    "### game type"
   ]
  },
  {
   "cell_type": "code",
   "execution_count": 17,
   "metadata": {
    "ExecuteTime": {
     "end_time": "2018-02-01T22:28:12.456002Z",
     "start_time": "2018-02-01T22:28:12.448482Z"
    },
    "collapsed": true,
    "hidden": true
   },
   "outputs": [],
   "source": [
    "lr2 = LinearRegression()\n",
    "X2 = df_mod.iloc[:, 8:-3]\n",
    "y2 = np.array(df_mod.score)\n",
    "\n",
    "lr2.fit(X2, y2);"
   ]
  },
  {
   "cell_type": "code",
   "execution_count": 18,
   "metadata": {
    "ExecuteTime": {
     "end_time": "2018-02-01T22:28:12.462793Z",
     "start_time": "2018-02-01T22:28:12.458005Z"
    },
    "hidden": true
   },
   "outputs": [
    {
     "data": {
      "text/plain": [
       "{'Adjusted R^2': 0.094867313011997689, 'R^2': 0.14811041224658605}"
      ]
     },
     "execution_count": 18,
     "metadata": {},
     "output_type": "execute_result"
    }
   ],
   "source": [
    "adj_r_squared(lr2, X2, y2)"
   ]
  },
  {
   "cell_type": "code",
   "execution_count": 19,
   "metadata": {
    "ExecuteTime": {
     "end_time": "2018-02-01T22:28:12.488877Z",
     "start_time": "2018-02-01T22:28:12.465272Z"
    },
    "hidden": true
   },
   "outputs": [
    {
     "data": {
      "text/plain": [
       "{'Train error': 9.1577857097852409, 'Validation error:': 9.9923611179776746}"
      ]
     },
     "execution_count": 19,
     "metadata": {},
     "output_type": "execute_result"
    }
   ],
   "source": [
    "cross_validation(lr2,X2,y2)"
   ]
  },
  {
   "cell_type": "markdown",
   "metadata": {
    "heading_collapsed": true,
    "hidden": true
   },
   "source": [
    "### console"
   ]
  },
  {
   "cell_type": "code",
   "execution_count": 20,
   "metadata": {
    "ExecuteTime": {
     "end_time": "2018-02-01T22:28:12.497960Z",
     "start_time": "2018-02-01T22:28:12.491268Z"
    },
    "collapsed": true,
    "hidden": true
   },
   "outputs": [],
   "source": [
    "lr3 = LinearRegression()\n",
    "X3 = df_mod.iloc[:, -3:-1]\n",
    "y3 = np.array(df_mod.score)\n",
    "\n",
    "lr3.fit(X3, y3);"
   ]
  },
  {
   "cell_type": "code",
   "execution_count": 21,
   "metadata": {
    "ExecuteTime": {
     "end_time": "2018-02-01T22:28:12.504364Z",
     "start_time": "2018-02-01T22:28:12.500031Z"
    },
    "hidden": true
   },
   "outputs": [
    {
     "data": {
      "text/plain": [
       "{'Adjusted R^2': 0.023062124161221109, 'R^2': 0.037428857629438372}"
      ]
     },
     "execution_count": 21,
     "metadata": {},
     "output_type": "execute_result"
    }
   ],
   "source": [
    "adj_r_squared(lr3, X3, y3)"
   ]
  },
  {
   "cell_type": "code",
   "execution_count": 22,
   "metadata": {
    "ExecuteTime": {
     "end_time": "2018-02-01T22:28:12.530519Z",
     "start_time": "2018-02-01T22:28:12.506619Z"
    },
    "hidden": true
   },
   "outputs": [
    {
     "data": {
      "text/plain": [
       "{'Train error': 9.7714971678691374, 'Validation error:': 9.9048403908842086}"
      ]
     },
     "execution_count": 22,
     "metadata": {},
     "output_type": "execute_result"
    }
   ],
   "source": [
    "cross_validation(lr3,X3,y3)"
   ]
  },
  {
   "cell_type": "markdown",
   "metadata": {
    "heading_collapsed": true,
    "hidden": true
   },
   "source": [
    "## Multivariate models"
   ]
  },
  {
   "cell_type": "markdown",
   "metadata": {
    "collapsed": true,
    "hidden": true
   },
   "source": [
    "### 'target age' and 'game type'"
   ]
  },
  {
   "cell_type": "code",
   "execution_count": 23,
   "metadata": {
    "ExecuteTime": {
     "end_time": "2018-02-01T22:28:12.540626Z",
     "start_time": "2018-02-01T22:28:12.532552Z"
    },
    "collapsed": true,
    "hidden": true
   },
   "outputs": [],
   "source": [
    "lr4 = LinearRegression()\n",
    "X4 = df_mod.iloc[:, 7:-3]\n",
    "y4 = np.array(df_mod.score)\n",
    "\n",
    "lr4.fit(X4, y4);"
   ]
  },
  {
   "cell_type": "code",
   "execution_count": 24,
   "metadata": {
    "ExecuteTime": {
     "end_time": "2018-02-01T22:28:12.547810Z",
     "start_time": "2018-02-01T22:28:12.542945Z"
    },
    "hidden": true
   },
   "outputs": [
    {
     "data": {
      "text/plain": [
       "{'Adjusted R^2': 0.096193104423498266, 'R^2': 0.15600385486606094}"
      ]
     },
     "execution_count": 24,
     "metadata": {},
     "output_type": "execute_result"
    }
   ],
   "source": [
    "adj_r_squared(lr4, X4, y4)"
   ]
  },
  {
   "cell_type": "code",
   "execution_count": 25,
   "metadata": {
    "ExecuteTime": {
     "end_time": "2018-02-01T22:28:12.576794Z",
     "start_time": "2018-02-01T22:28:12.549958Z"
    },
    "hidden": true
   },
   "outputs": [
    {
     "data": {
      "text/plain": [
       "{'Train error': 9.1097299765944602, 'Validation error:': 10.062534034274563}"
      ]
     },
     "execution_count": 25,
     "metadata": {},
     "output_type": "execute_result"
    }
   ],
   "source": [
    "cross_validation(lr4,X4,y4)"
   ]
  },
  {
   "cell_type": "markdown",
   "metadata": {
    "hidden": true
   },
   "source": [
    "### 'target age' and 'console'"
   ]
  },
  {
   "cell_type": "code",
   "execution_count": 26,
   "metadata": {
    "ExecuteTime": {
     "end_time": "2018-02-01T22:28:12.589149Z",
     "start_time": "2018-02-01T22:28:12.578655Z"
    },
    "collapsed": true,
    "hidden": true
   },
   "outputs": [],
   "source": [
    "lr5 = LinearRegression()\n",
    "\n",
    "#isolates the 'console' columns\n",
    "X5 = df_mod.iloc[:, -3:-1]\n",
    "\n",
    "#adds 'target_age' column into the X matrix\n",
    "target_age_col = df_mod.target_age\n",
    "X5['target_age'] = target_age_col\n",
    "\n",
    "y5 = np.array(df_mod.score)\n",
    "\n",
    "lr5.fit(X5, y5);"
   ]
  },
  {
   "cell_type": "code",
   "execution_count": 27,
   "metadata": {
    "ExecuteTime": {
     "end_time": "2018-02-01T22:28:12.595835Z",
     "start_time": "2018-02-01T22:28:12.591786Z"
    },
    "hidden": true
   },
   "outputs": [
    {
     "data": {
      "text/plain": [
       "{'Adjusted R^2': 0.040317585641305276, 'R^2': 0.061487050663923459}"
      ]
     },
     "execution_count": 27,
     "metadata": {},
     "output_type": "execute_result"
    }
   ],
   "source": [
    "adj_r_squared(lr5, X5, y5)"
   ]
  },
  {
   "cell_type": "code",
   "execution_count": 28,
   "metadata": {
    "ExecuteTime": {
     "end_time": "2018-02-01T22:28:12.625117Z",
     "start_time": "2018-02-01T22:28:12.597946Z"
    },
    "hidden": true
   },
   "outputs": [
    {
     "data": {
      "text/plain": [
       "{'Train error': 9.6467716778224641, 'Validation error:': 9.8051082173226956}"
      ]
     },
     "execution_count": 28,
     "metadata": {},
     "output_type": "execute_result"
    }
   ],
   "source": [
    "cross_validation(lr5,X5,y5)"
   ]
  },
  {
   "cell_type": "markdown",
   "metadata": {
    "hidden": true
   },
   "source": [
    "### 'game type' and 'console'"
   ]
  },
  {
   "cell_type": "code",
   "execution_count": 29,
   "metadata": {
    "ExecuteTime": {
     "end_time": "2018-02-01T22:28:12.632665Z",
     "start_time": "2018-02-01T22:28:12.627100Z"
    },
    "collapsed": true,
    "hidden": true
   },
   "outputs": [],
   "source": [
    "lr6 = LinearRegression()\n",
    "X6 = df_mod.iloc[:, 8:-1]\n",
    "y6 = np.array(df_mod.score)\n",
    "\n",
    "lr6.fit(X6, y6);"
   ]
  },
  {
   "cell_type": "code",
   "execution_count": 30,
   "metadata": {
    "ExecuteTime": {
     "end_time": "2018-02-01T22:28:12.640192Z",
     "start_time": "2018-02-01T22:28:12.634866Z"
    },
    "hidden": true
   },
   "outputs": [
    {
     "data": {
      "text/plain": [
       "{'Adjusted R^2': 0.11576669314198862, 'R^2': 0.18078384805801895}"
      ]
     },
     "execution_count": 30,
     "metadata": {},
     "output_type": "execute_result"
    }
   ],
   "source": [
    "adj_r_squared(lr6, X6, y6)"
   ]
  },
  {
   "cell_type": "code",
   "execution_count": 31,
   "metadata": {
    "ExecuteTime": {
     "end_time": "2018-02-01T22:28:12.671062Z",
     "start_time": "2018-02-01T22:28:12.642694Z"
    },
    "hidden": true
   },
   "outputs": [
    {
     "data": {
      "text/plain": [
       "{'Train error': 8.965709209088546, 'Validation error:': 10.090215847214054}"
      ]
     },
     "execution_count": 31,
     "metadata": {},
     "output_type": "execute_result"
    }
   ],
   "source": [
    "cross_validation(lr6,X6,y6)"
   ]
  },
  {
   "cell_type": "markdown",
   "metadata": {
    "heading_collapsed": true,
    "hidden": true
   },
   "source": [
    "## Kitchen sink model"
   ]
  },
  {
   "cell_type": "code",
   "execution_count": 32,
   "metadata": {
    "ExecuteTime": {
     "end_time": "2018-02-01T22:28:12.679348Z",
     "start_time": "2018-02-01T22:28:12.673292Z"
    },
    "collapsed": true,
    "hidden": true
   },
   "outputs": [],
   "source": [
    "lr7 = LinearRegression()\n",
    "X7 = df_mod.iloc[:, 7:-1]\n",
    "y7 = np.array(df_mod.score)\n",
    "\n",
    "lr7.fit(X7, y7);"
   ]
  },
  {
   "cell_type": "code",
   "execution_count": 33,
   "metadata": {
    "ExecuteTime": {
     "end_time": "2018-02-01T22:28:12.685751Z",
     "start_time": "2018-02-01T22:28:12.681391Z"
    },
    "hidden": true
   },
   "outputs": [
    {
     "data": {
      "text/plain": [
       "{'Adjusted R^2': 0.11010347351895511, 'R^2': 0.18208039845492197}"
      ]
     },
     "execution_count": 33,
     "metadata": {},
     "output_type": "execute_result"
    }
   ],
   "source": [
    "adj_r_squared(lr7, X7, y7)"
   ]
  },
  {
   "cell_type": "code",
   "execution_count": 34,
   "metadata": {
    "ExecuteTime": {
     "end_time": "2018-02-01T22:28:12.718317Z",
     "start_time": "2018-02-01T22:28:12.689193Z"
    },
    "hidden": true
   },
   "outputs": [
    {
     "data": {
      "text/plain": [
       "{'Train error': 8.9555833245930572, 'Validation error:': 10.142274006958761}"
      ]
     },
     "execution_count": 34,
     "metadata": {},
     "output_type": "execute_result"
    }
   ],
   "source": [
    "cross_validation(lr7,X7,y7)"
   ]
  },
  {
   "cell_type": "markdown",
   "metadata": {
    "hidden": true
   },
   "source": [
    "## Dummy model for comparison"
   ]
  },
  {
   "cell_type": "code",
   "execution_count": 36,
   "metadata": {
    "ExecuteTime": {
     "end_time": "2018-02-01T22:56:37.489944Z",
     "start_time": "2018-02-01T22:56:37.484852Z"
    },
    "collapsed": true,
    "hidden": true
   },
   "outputs": [],
   "source": [
    "dumb = DummyRegressor()\n",
    "Xdumb = df_mod.iloc[:, 7:-1]\n",
    "ydumb = np.array(df_mod.score)\n",
    "\n",
    "dumb.fit(Xdumb, ydumb);"
   ]
  },
  {
   "cell_type": "code",
   "execution_count": 37,
   "metadata": {
    "ExecuteTime": {
     "end_time": "2018-02-01T22:57:01.296675Z",
     "start_time": "2018-02-01T22:57:01.292844Z"
    },
    "hidden": true
   },
   "outputs": [
    {
     "data": {
      "text/plain": [
       "{'Adjusted R^2': -0.088000000000000078, 'R^2': 0.0}"
      ]
     },
     "execution_count": 37,
     "metadata": {},
     "output_type": "execute_result"
    }
   ],
   "source": [
    "adj_r_squared(dumb, Xdumb, ydumb)"
   ]
  },
  {
   "cell_type": "code",
   "execution_count": 39,
   "metadata": {
    "ExecuteTime": {
     "end_time": "2018-02-01T22:57:34.816695Z",
     "start_time": "2018-02-01T22:57:34.803955Z"
    },
    "hidden": true
   },
   "outputs": [
    {
     "data": {
      "text/plain": [
       "{'Train error': 9.9725366573866943, 'Validation error:': 9.9257991473688314}"
      ]
     },
     "execution_count": 39,
     "metadata": {},
     "output_type": "execute_result"
    }
   ],
   "source": [
    "cross_validation(dumb,Xdumb,ydumb)"
   ]
  }
 ],
 "metadata": {
  "kernelspec": {
   "display_name": "Python 3",
   "language": "python",
   "name": "python3"
  },
  "language_info": {
   "codemirror_mode": {
    "name": "ipython",
    "version": 3
   },
   "file_extension": ".py",
   "mimetype": "text/x-python",
   "name": "python",
   "nbconvert_exporter": "python",
   "pygments_lexer": "ipython3",
   "version": "3.6.4"
  },
  "toc": {
   "nav_menu": {},
   "number_sections": true,
   "sideBar": true,
   "skip_h1_title": false,
   "title_cell": "Table of Contents",
   "title_sidebar": "Contents",
   "toc_cell": false,
   "toc_position": {},
   "toc_section_display": true,
   "toc_window_display": false
  },
  "varInspector": {
   "cols": {
    "lenName": 16,
    "lenType": 16,
    "lenVar": 40
   },
   "kernels_config": {
    "python": {
     "delete_cmd_postfix": "",
     "delete_cmd_prefix": "del ",
     "library": "var_list.py",
     "varRefreshCmd": "print(var_dic_list())"
    },
    "r": {
     "delete_cmd_postfix": ") ",
     "delete_cmd_prefix": "rm(",
     "library": "var_list.r",
     "varRefreshCmd": "cat(var_dic_list()) "
    }
   },
   "position": {
    "height": "861px",
    "left": "1550px",
    "right": "20px",
    "top": "120px",
    "width": "389px"
   },
   "types_to_exclude": [
    "module",
    "function",
    "builtin_function_or_method",
    "instance",
    "_Feature"
   ],
   "window_display": true
  }
 },
 "nbformat": 4,
 "nbformat_minor": 2
}
