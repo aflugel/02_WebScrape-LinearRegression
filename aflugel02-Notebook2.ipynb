{
 "cells": [
  {
   "cell_type": "code",
   "execution_count": 89,
   "metadata": {
    "ExecuteTime": {
     "end_time": "2018-01-31T22:49:41.081717Z",
     "start_time": "2018-01-31T22:49:41.077126Z"
    },
    "collapsed": true
   },
   "outputs": [],
   "source": [
    "import pandas as pd\n",
    "\n",
    "from datetime import datetime as dt\n",
    "#from copy import deepcopy\n",
    "import pickle\n",
    "\n",
    "%matplotlib inline"
   ]
  },
  {
   "cell_type": "code",
   "execution_count": 90,
   "metadata": {
    "ExecuteTime": {
     "end_time": "2018-01-31T22:49:41.940910Z",
     "start_time": "2018-01-31T22:49:41.937448Z"
    },
    "collapsed": true
   },
   "outputs": [],
   "source": [
    "df = pd.read_pickle('score_df.pk1')"
   ]
  },
  {
   "cell_type": "markdown",
   "metadata": {
    "heading_collapsed": true
   },
   "source": [
    "# Generate 'game type' characteristic (genre + gameplay)"
   ]
  },
  {
   "cell_type": "markdown",
   "metadata": {
    "hidden": true
   },
   "source": [
    "Combining 'genre' and 'gameplay' columns - similar/interchangable info. Calling this info 'game_type'"
   ]
  },
  {
   "cell_type": "code",
   "execution_count": 91,
   "metadata": {
    "ExecuteTime": {
     "end_time": "2018-01-31T22:49:43.979555Z",
     "start_time": "2018-01-31T22:49:43.972084Z"
    },
    "collapsed": true,
    "hidden": true
   },
   "outputs": [],
   "source": [
    "#getting rid of NaNs so that the combo column (game_type) below works\n",
    "df.genre.fillna('', inplace=True)\n",
    "df.gameplay.fillna('', inplace=True)\n",
    "\n",
    "df['game_type'] = df['genre'] + \" & \" + df['gameplay']\n",
    "\n",
    "df.drop(['genre', 'gameplay'], axis=1, inplace=True)  #now redundant"
   ]
  },
  {
   "cell_type": "markdown",
   "metadata": {
    "hidden": true
   },
   "source": [
    "Pulling out defining gameplay trait keywords to re-classify 'game type'"
   ]
  },
  {
   "cell_type": "code",
   "execution_count": 92,
   "metadata": {
    "ExecuteTime": {
     "end_time": "2018-01-31T22:49:45.142432Z",
     "start_time": "2018-01-31T22:49:45.075322Z"
    },
    "collapsed": true,
    "hidden": true
   },
   "outputs": [],
   "source": [
    "df.replace(r'.*RPG.*', 'RPG', inplace=True, regex=True)   #RPGs\n",
    "df.replace(r'.*Driving.*', 'Racing', inplace=True, regex=True)  #racing\n",
    "df.replace(r'.*Shoot.*', 'Shooter', inplace=True, regex=True)   #shooters\n",
    "df.replace(r'.*Platform.*', 'Platformer', inplace=True, regex=True)  #platformers\n",
    "df.replace(r'.*Fight.*', 'Fighting', inplace=True, regex=True)  #fighting\n",
    "df.replace(r'.*Sport.*', 'Sports', inplace=True, regex=True)  #sports\n",
    "\n",
    "#Classifying open world, adventure, metroidvania, etc. as general adventure category\n",
    "df.replace(r'.*Adventure.*', 'Adventure', inplace=True, regex=True)\n",
    "df.replace(r'.*Metroid.*', 'Adventure', inplace=True, regex=True)\n",
    "df.replace(r'.*Open\\ World.*', 'Adventure', inplace=True, regex=True)\n",
    "\n",
    "#Grouping Puzzle/Strategy together as more cerebral games\n",
    "df.replace(r'.*Puzzle.*', 'Puzzle/Strategy', inplace=True, regex=True)\n",
    "df.replace(r'.*Strat.*', 'Puzzle/Strategy', inplace=True, regex=True)\n",
    "\n",
    "#Replacing stragglers/unique genres with 'Misc Action/Other'\n",
    "df.replace(r'.*\\&.*', 'Misc Action/Other', inplace=True, regex=True)"
   ]
  },
  {
   "cell_type": "code",
   "execution_count": 93,
   "metadata": {
    "ExecuteTime": {
     "end_time": "2018-01-31T22:49:46.086957Z",
     "start_time": "2018-01-31T22:49:46.082313Z"
    },
    "hidden": true
   },
   "outputs": [
    {
     "data": {
      "text/plain": [
       "Shooter              67\n",
       "RPG                  48\n",
       "Misc Action/Other    36\n",
       "Platformer           36\n",
       "Racing               24\n",
       "Adventure            17\n",
       "Puzzle/Strategy      14\n",
       "Fighting             12\n",
       "Sports               11\n",
       "Name: game_type, dtype: int64"
      ]
     },
     "execution_count": 93,
     "metadata": {},
     "output_type": "execute_result"
    }
   ],
   "source": [
    "df.game_type.value_counts()   #checking to see that everything is categorized"
   ]
  },
  {
   "cell_type": "markdown",
   "metadata": {
    "heading_collapsed": true
   },
   "source": [
    "# Generate target_age characteristic (from esrb)"
   ]
  },
  {
   "cell_type": "code",
   "execution_count": 94,
   "metadata": {
    "ExecuteTime": {
     "end_time": "2018-01-31T22:49:47.843766Z",
     "start_time": "2018-01-31T22:49:47.835823Z"
    },
    "collapsed": true,
    "hidden": true
   },
   "outputs": [],
   "source": [
    "esrb_column = deepcopy(df['esrb rating'])   #copying esrb rating column - don't want to overwrite it\n",
    "\n",
    "#transform ratings into continuous values based on minimum age recommended by esrb\n",
    "esrb_column.replace('Everyone', 6, inplace=True) \n",
    "esrb_column.replace('Everyone 10+', 10, inplace=True) \n",
    "esrb_column.replace('Teen', 13, inplace=True) \n",
    "esrb_column.replace('Mature', 17, inplace=True)\n",
    "\n",
    "df['target_age'] = esrb_column"
   ]
  },
  {
   "cell_type": "code",
   "execution_count": 95,
   "metadata": {
    "ExecuteTime": {
     "end_time": "2018-01-31T22:49:48.844802Z",
     "start_time": "2018-01-31T22:49:48.840049Z"
    },
    "hidden": true
   },
   "outputs": [
    {
     "data": {
      "text/plain": [
       "17.0    62\n",
       "10.0    34\n",
       "13.0    28\n",
       "6.0     13\n",
       "Name: target_age, dtype: int64"
      ]
     },
     "execution_count": 95,
     "metadata": {},
     "output_type": "execute_result"
    }
   ],
   "source": [
    "df['target_age'].value_counts()"
   ]
  },
  {
   "cell_type": "markdown",
   "metadata": {
    "heading_collapsed": true
   },
   "source": [
    "# Create dummy columns (console, game type)"
   ]
  },
  {
   "cell_type": "code",
   "execution_count": 96,
   "metadata": {
    "ExecuteTime": {
     "end_time": "2018-01-31T22:49:50.218127Z",
     "start_time": "2018-01-31T22:49:50.197947Z"
    },
    "hidden": true
   },
   "outputs": [
    {
     "data": {
      "text/html": [
       "<div>\n",
       "<style>\n",
       "    .dataframe thead tr:only-child th {\n",
       "        text-align: right;\n",
       "    }\n",
       "\n",
       "    .dataframe thead th {\n",
       "        text-align: left;\n",
       "    }\n",
       "\n",
       "    .dataframe tbody tr th {\n",
       "        vertical-align: top;\n",
       "    }\n",
       "</style>\n",
       "<table border=\"1\" class=\"dataframe\">\n",
       "  <thead>\n",
       "    <tr style=\"text-align: right;\">\n",
       "      <th></th>\n",
       "      <th>title</th>\n",
       "      <th>released</th>\n",
       "      <th>perspective</th>\n",
       "      <th>setting</th>\n",
       "      <th>developed by</th>\n",
       "      <th>published by</th>\n",
       "      <th>esrb rating</th>\n",
       "      <th>score</th>\n",
       "      <th>target_age</th>\n",
       "      <th>game_type_Fighting</th>\n",
       "      <th>game_type_Misc Action/Other</th>\n",
       "      <th>game_type_Platformer</th>\n",
       "      <th>game_type_Puzzle/Strategy</th>\n",
       "      <th>game_type_RPG</th>\n",
       "      <th>game_type_Racing</th>\n",
       "      <th>game_type_Shooter</th>\n",
       "      <th>game_type_Sports</th>\n",
       "      <th>console_PlayStation 4</th>\n",
       "      <th>console_Xbox One</th>\n",
       "    </tr>\n",
       "  </thead>\n",
       "  <tbody>\n",
       "    <tr>\n",
       "      <th>1</th>\n",
       "      <td>1-2-Switch</td>\n",
       "      <td>Mar 03, 2017</td>\n",
       "      <td>1st-person, Audio game</td>\n",
       "      <td>NaN</td>\n",
       "      <td>Nintendo EPD</td>\n",
       "      <td>Nintendo of America Inc.</td>\n",
       "      <td>Everyone 10+</td>\n",
       "      <td>48</td>\n",
       "      <td>10.0</td>\n",
       "      <td>0</td>\n",
       "      <td>1</td>\n",
       "      <td>0</td>\n",
       "      <td>0</td>\n",
       "      <td>0</td>\n",
       "      <td>0</td>\n",
       "      <td>0</td>\n",
       "      <td>0</td>\n",
       "      <td>0</td>\n",
       "      <td>0</td>\n",
       "    </tr>\n",
       "  </tbody>\n",
       "</table>\n",
       "</div>"
      ],
      "text/plain": [
       "        title      released             perspective setting  developed by  \\\n",
       "1  1-2-Switch  Mar 03, 2017  1st-person, Audio game     NaN  Nintendo EPD   \n",
       "\n",
       "               published by   esrb rating  score  target_age  \\\n",
       "1  Nintendo of America Inc.  Everyone 10+     48        10.0   \n",
       "\n",
       "   game_type_Fighting  game_type_Misc Action/Other  game_type_Platformer  \\\n",
       "1                   0                            1                     0   \n",
       "\n",
       "   game_type_Puzzle/Strategy  game_type_RPG  game_type_Racing  \\\n",
       "1                          0              0                 0   \n",
       "\n",
       "   game_type_Shooter  game_type_Sports  console_PlayStation 4  \\\n",
       "1                  0                 0                      0   \n",
       "\n",
       "   console_Xbox One  \n",
       "1                 0  "
      ]
     },
     "execution_count": 96,
     "metadata": {},
     "output_type": "execute_result"
    }
   ],
   "source": [
    "df_mod = pd.get_dummies(df, columns=['game_type', 'console'], drop_first=True)\n",
    "\n",
    "df_mod.head(1)"
   ]
  },
  {
   "cell_type": "markdown",
   "metadata": {
    "heading_collapsed": true
   },
   "source": [
    "# Clean up"
   ]
  },
  {
   "cell_type": "code",
   "execution_count": 97,
   "metadata": {
    "ExecuteTime": {
     "end_time": "2018-01-31T22:49:51.497083Z",
     "start_time": "2018-01-31T22:49:51.429287Z"
    },
    "collapsed": true,
    "hidden": true
   },
   "outputs": [],
   "source": [
    "#drop rows with 'NaN' target_age/esrb rating\n",
    "df_mod = df_mod[df_mod.target_age.notnull()]\n",
    "\n",
    "#turn release date into proper datetime\n",
    "df_mod.released = pd.to_datetime(df_mod.released)\n",
    "\n",
    "# Reorder columns to put target at the end\n",
    "cols = list(df_mod.columns.values) \n",
    "cols.pop(cols.index('score'))\n",
    "df_mod = df_mod[cols+['score']]"
   ]
  },
  {
   "cell_type": "markdown",
   "metadata": {
    "heading_collapsed": true
   },
   "source": [
    "# Create pickle for next steps"
   ]
  },
  {
   "cell_type": "code",
   "execution_count": 99,
   "metadata": {
    "ExecuteTime": {
     "end_time": "2018-01-31T22:50:38.502352Z",
     "start_time": "2018-01-31T22:50:38.498376Z"
    },
    "collapsed": true,
    "hidden": true
   },
   "outputs": [],
   "source": [
    "#create pickle of cleaned up dataframe\n",
    "with open('df_mod.pk1', 'wb') as f:\n",
    "    pickle.dump(df_mod, f)"
   ]
  },
  {
   "cell_type": "code",
   "execution_count": null,
   "metadata": {
    "collapsed": true,
    "hidden": true
   },
   "outputs": [],
   "source": []
  }
 ],
 "metadata": {
  "kernelspec": {
   "display_name": "Python 3",
   "language": "python",
   "name": "python3"
  },
  "language_info": {
   "codemirror_mode": {
    "name": "ipython",
    "version": 3
   },
   "file_extension": ".py",
   "mimetype": "text/x-python",
   "name": "python",
   "nbconvert_exporter": "python",
   "pygments_lexer": "ipython3",
   "version": "3.6.4"
  },
  "toc": {
   "nav_menu": {},
   "number_sections": true,
   "sideBar": true,
   "skip_h1_title": false,
   "title_cell": "Table of Contents",
   "title_sidebar": "Contents",
   "toc_cell": false,
   "toc_position": {},
   "toc_section_display": true,
   "toc_window_display": false
  },
  "varInspector": {
   "cols": {
    "lenName": 16,
    "lenType": 16,
    "lenVar": 40
   },
   "kernels_config": {
    "python": {
     "delete_cmd_postfix": "",
     "delete_cmd_prefix": "del ",
     "library": "var_list.py",
     "varRefreshCmd": "print(var_dic_list())"
    },
    "r": {
     "delete_cmd_postfix": ") ",
     "delete_cmd_prefix": "rm(",
     "library": "var_list.r",
     "varRefreshCmd": "cat(var_dic_list()) "
    }
   },
   "position": {
    "height": "861px",
    "left": "1550px",
    "right": "20px",
    "top": "120px",
    "width": "389px"
   },
   "types_to_exclude": [
    "module",
    "function",
    "builtin_function_or_method",
    "instance",
    "_Feature"
   ],
   "window_display": true
  }
 },
 "nbformat": 4,
 "nbformat_minor": 2
}
